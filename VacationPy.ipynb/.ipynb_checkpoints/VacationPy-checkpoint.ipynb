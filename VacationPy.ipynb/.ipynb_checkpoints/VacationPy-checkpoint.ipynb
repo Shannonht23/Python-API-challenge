{
 "cells": [
  {
   "cell_type": "markdown",
   "metadata": {},
   "source": [
    "# VacationPy\n",
    "----\n",
    "\n",
    "#### Note\n",
    "* Keep an eye on your API usage. Use https://developers.google.com/maps/reporting/gmp-reporting as reference for how to monitor your usage and billing.\n",
    "\n",
    "* Instructions have been included for each segment. You do not have to follow them exactly, but they are included to help you think through the steps."
   ]
  },
  {
   "cell_type": "code",
   "execution_count": 6,
   "metadata": {},
   "outputs": [],
   "source": [
    "# Dependencies and Setup\n",
    "import matplotlib.pyplot as plt\n",
    "import pandas as pd\n",
    "import numpy as np\n",
    "import requests\n",
    "import gmaps\n",
    "import os\n",
    "import json\n",
    "# Import API key\n",
    "from api_keys import g_key"
   ]
  },
  {
   "cell_type": "markdown",
   "metadata": {},
   "source": [
    "### Store Part I results into DataFrame\n",
    "* Load the csv exported in Part I to a DataFrame"
   ]
  },
  {
   "cell_type": "code",
   "execution_count": 7,
   "metadata": {},
   "outputs": [
    {
     "data": {
      "text/html": [
       "<div>\n",
       "<style scoped>\n",
       "    .dataframe tbody tr th:only-of-type {\n",
       "        vertical-align: middle;\n",
       "    }\n",
       "\n",
       "    .dataframe tbody tr th {\n",
       "        vertical-align: top;\n",
       "    }\n",
       "\n",
       "    .dataframe thead th {\n",
       "        text-align: right;\n",
       "    }\n",
       "</style>\n",
       "<table border=\"1\" class=\"dataframe\">\n",
       "  <thead>\n",
       "    <tr style=\"text-align: right;\">\n",
       "      <th></th>\n",
       "      <th>City_ID</th>\n",
       "      <th>City</th>\n",
       "      <th>Lat</th>\n",
       "      <th>Lng</th>\n",
       "      <th>Max Temp</th>\n",
       "      <th>Humidity</th>\n",
       "      <th>Cloudiness</th>\n",
       "      <th>Wind Speed</th>\n",
       "      <th>Country</th>\n",
       "      <th>Date</th>\n",
       "    </tr>\n",
       "  </thead>\n",
       "  <tbody>\n",
       "    <tr>\n",
       "      <th>0</th>\n",
       "      <td>0</td>\n",
       "      <td>iqaluit</td>\n",
       "      <td>63.7506</td>\n",
       "      <td>-68.5145</td>\n",
       "      <td>31.73</td>\n",
       "      <td>80</td>\n",
       "      <td>90</td>\n",
       "      <td>17.00</td>\n",
       "      <td>CA</td>\n",
       "      <td>1635043762</td>\n",
       "    </tr>\n",
       "    <tr>\n",
       "      <th>1</th>\n",
       "      <td>1</td>\n",
       "      <td>sitka</td>\n",
       "      <td>57.0531</td>\n",
       "      <td>-135.3300</td>\n",
       "      <td>48.09</td>\n",
       "      <td>66</td>\n",
       "      <td>90</td>\n",
       "      <td>11.50</td>\n",
       "      <td>US</td>\n",
       "      <td>1635043743</td>\n",
       "    </tr>\n",
       "    <tr>\n",
       "      <th>2</th>\n",
       "      <td>2</td>\n",
       "      <td>provideniya</td>\n",
       "      <td>64.3833</td>\n",
       "      <td>-173.3000</td>\n",
       "      <td>24.26</td>\n",
       "      <td>78</td>\n",
       "      <td>100</td>\n",
       "      <td>8.68</td>\n",
       "      <td>RU</td>\n",
       "      <td>1635043780</td>\n",
       "    </tr>\n",
       "    <tr>\n",
       "      <th>3</th>\n",
       "      <td>3</td>\n",
       "      <td>ancud</td>\n",
       "      <td>-41.8697</td>\n",
       "      <td>-73.8203</td>\n",
       "      <td>48.42</td>\n",
       "      <td>77</td>\n",
       "      <td>82</td>\n",
       "      <td>9.42</td>\n",
       "      <td>CL</td>\n",
       "      <td>1635043756</td>\n",
       "    </tr>\n",
       "    <tr>\n",
       "      <th>4</th>\n",
       "      <td>4</td>\n",
       "      <td>talara</td>\n",
       "      <td>-4.5772</td>\n",
       "      <td>-81.2719</td>\n",
       "      <td>66.18</td>\n",
       "      <td>84</td>\n",
       "      <td>92</td>\n",
       "      <td>14.99</td>\n",
       "      <td>PE</td>\n",
       "      <td>1635044200</td>\n",
       "    </tr>\n",
       "  </tbody>\n",
       "</table>\n",
       "</div>"
      ],
      "text/plain": [
       "   City_ID         City      Lat       Lng  Max Temp  Humidity  Cloudiness  \\\n",
       "0        0      iqaluit  63.7506  -68.5145     31.73        80          90   \n",
       "1        1        sitka  57.0531 -135.3300     48.09        66          90   \n",
       "2        2  provideniya  64.3833 -173.3000     24.26        78         100   \n",
       "3        3        ancud -41.8697  -73.8203     48.42        77          82   \n",
       "4        4       talara  -4.5772  -81.2719     66.18        84          92   \n",
       "\n",
       "   Wind Speed Country        Date  \n",
       "0       17.00      CA  1635043762  \n",
       "1       11.50      US  1635043743  \n",
       "2        8.68      RU  1635043780  \n",
       "3        9.42      CL  1635043756  \n",
       "4       14.99      PE  1635044200  "
      ]
     },
     "execution_count": 7,
     "metadata": {},
     "output_type": "execute_result"
    }
   ],
   "source": [
    "df= pd.read_csv('cities_updated.csv')\n",
    "df.head()"
   ]
  },
  {
   "cell_type": "markdown",
   "metadata": {},
   "source": [
    "### Humidity Heatmap\n",
    "* Configure gmaps.\n",
    "* Use the Lat and Lng as locations and Humidity as the weight.\n",
    "* Add Heatmap layer to map."
   ]
  },
  {
   "cell_type": "code",
   "execution_count": 8,
   "metadata": {},
   "outputs": [],
   "source": [
    "gmaps.configure(api_key=g_key)"
   ]
  },
  {
   "cell_type": "code",
   "execution_count": 9,
   "metadata": {},
   "outputs": [
    {
     "data": {
      "application/vnd.jupyter.widget-view+json": {
       "model_id": "8386e0c3e9bd43f99072a1f807460d8c",
       "version_major": 2,
       "version_minor": 0
      },
      "text/plain": [
       "Figure(layout=FigureLayout(border='1px solid black', height='480px', margin='0 auto 0 auto', padding='1px', wi…"
      ]
     },
     "metadata": {},
     "output_type": "display_data"
    }
   ],
   "source": [
    "figure_layout = {\n",
    "    'width':'640px',\n",
    "    'height':'480px',\n",
    "    'border':'1px solid black',\n",
    "    'padding':'1px',\n",
    "    'margin': '0 auto 0 auto'\n",
    "}\n",
    "map_figure = gmaps.figure(layout=figure_layout)\n",
    "locations = df[['Lat', 'Lng']]\n",
    "weights = df['Humidity']\n",
    "\n",
    "map_figure.add_layer(gmaps.heatmap_layer(locations, weights=weights))\n",
    "map_figure \n",
    "\n",
    "#Observation: I can see that three continent has alot of heat humidity North america, south america, Africa and a few different \n",
    "#islands"
   ]
  },
  {
   "cell_type": "markdown",
   "metadata": {},
   "source": [
    "### Create new DataFrame fitting weather criteria\n",
    "* Narrow down the cities to fit weather conditions.\n",
    "* Drop any rows will null values."
   ]
  },
  {
   "cell_type": "code",
   "execution_count": 10,
   "metadata": {},
   "outputs": [
    {
     "name": "stdout",
     "output_type": "stream",
     "text": [
      "(86, 10)\n"
     ]
    },
    {
     "data": {
      "text/html": [
       "<div>\n",
       "<style scoped>\n",
       "    .dataframe tbody tr th:only-of-type {\n",
       "        vertical-align: middle;\n",
       "    }\n",
       "\n",
       "    .dataframe tbody tr th {\n",
       "        vertical-align: top;\n",
       "    }\n",
       "\n",
       "    .dataframe thead th {\n",
       "        text-align: right;\n",
       "    }\n",
       "</style>\n",
       "<table border=\"1\" class=\"dataframe\">\n",
       "  <thead>\n",
       "    <tr style=\"text-align: right;\">\n",
       "      <th></th>\n",
       "      <th>City_ID</th>\n",
       "      <th>City</th>\n",
       "      <th>Lat</th>\n",
       "      <th>Lng</th>\n",
       "      <th>Max Temp</th>\n",
       "      <th>Humidity</th>\n",
       "      <th>Cloudiness</th>\n",
       "      <th>Wind Speed</th>\n",
       "      <th>Country</th>\n",
       "      <th>Date</th>\n",
       "    </tr>\n",
       "  </thead>\n",
       "  <tbody>\n",
       "    <tr>\n",
       "      <th>16</th>\n",
       "      <td>16</td>\n",
       "      <td>bambari</td>\n",
       "      <td>5.7680</td>\n",
       "      <td>20.6757</td>\n",
       "      <td>70.59</td>\n",
       "      <td>93</td>\n",
       "      <td>68</td>\n",
       "      <td>1.07</td>\n",
       "      <td>CF</td>\n",
       "      <td>1635044202</td>\n",
       "    </tr>\n",
       "    <tr>\n",
       "      <th>28</th>\n",
       "      <td>28</td>\n",
       "      <td>atar</td>\n",
       "      <td>20.5169</td>\n",
       "      <td>-13.0499</td>\n",
       "      <td>78.49</td>\n",
       "      <td>19</td>\n",
       "      <td>11</td>\n",
       "      <td>7.58</td>\n",
       "      <td>MR</td>\n",
       "      <td>1635044204</td>\n",
       "    </tr>\n",
       "    <tr>\n",
       "      <th>31</th>\n",
       "      <td>31</td>\n",
       "      <td>tonantins</td>\n",
       "      <td>-2.8731</td>\n",
       "      <td>-67.8022</td>\n",
       "      <td>75.63</td>\n",
       "      <td>94</td>\n",
       "      <td>2</td>\n",
       "      <td>1.66</td>\n",
       "      <td>BR</td>\n",
       "      <td>1635044205</td>\n",
       "    </tr>\n",
       "    <tr>\n",
       "      <th>40</th>\n",
       "      <td>40</td>\n",
       "      <td>busselton</td>\n",
       "      <td>-33.6500</td>\n",
       "      <td>115.3333</td>\n",
       "      <td>78.04</td>\n",
       "      <td>58</td>\n",
       "      <td>99</td>\n",
       "      <td>7.49</td>\n",
       "      <td>AU</td>\n",
       "      <td>1635043732</td>\n",
       "    </tr>\n",
       "    <tr>\n",
       "      <th>43</th>\n",
       "      <td>43</td>\n",
       "      <td>tura</td>\n",
       "      <td>25.5198</td>\n",
       "      <td>90.2201</td>\n",
       "      <td>76.01</td>\n",
       "      <td>62</td>\n",
       "      <td>19</td>\n",
       "      <td>0.89</td>\n",
       "      <td>IN</td>\n",
       "      <td>1635043760</td>\n",
       "    </tr>\n",
       "  </tbody>\n",
       "</table>\n",
       "</div>"
      ],
      "text/plain": [
       "    City_ID       City      Lat       Lng  Max Temp  Humidity  Cloudiness  \\\n",
       "16       16    bambari   5.7680   20.6757     70.59        93          68   \n",
       "28       28       atar  20.5169  -13.0499     78.49        19          11   \n",
       "31       31  tonantins  -2.8731  -67.8022     75.63        94           2   \n",
       "40       40  busselton -33.6500  115.3333     78.04        58          99   \n",
       "43       43       tura  25.5198   90.2201     76.01        62          19   \n",
       "\n",
       "    Wind Speed Country        Date  \n",
       "16        1.07      CF  1635044202  \n",
       "28        7.58      MR  1635044204  \n",
       "31        1.66      BR  1635044205  \n",
       "40        7.49      AU  1635043732  \n",
       "43        0.89      IN  1635043760  "
      ]
     },
     "execution_count": 10,
     "metadata": {},
     "output_type": "execute_result"
    }
   ],
   "source": [
    "#  Observation: \n",
    "#Ideal weather temperature for me is: \n",
    "    # max temperature lower than 80 degrees but higher than 70.\n",
    "    # Wind speed less than 10 mph.\n",
    "    # Zero cloudiness.\n",
    "    \n",
    "# Dataframe made to hold data \n",
    "df_city_narrowed = df[(df['Wind Speed'] < 10)  & (df['Max Temp'] >70) & (df['Max Temp'] < 80)]\n",
    "print(df_city_narrowed.shape)\n",
    "df_city_narrowed.head()"
   ]
  },
  {
   "cell_type": "markdown",
   "metadata": {},
   "source": [
    "### Hotel Map\n",
    "* Store into variable named `hotel_df`.\n",
    "* Add a \"Hotel Name\" column to the DataFrame.\n",
    "* Set parameters to search for hotels with 5000 meters.\n",
    "* Hit the Google Places API for each city's coordinates.\n",
    "* Store the first Hotel result into the DataFrame.\n",
    "* Plot markers on top of the heatmap."
   ]
  },
  {
   "cell_type": "code",
   "execution_count": 11,
   "metadata": {},
   "outputs": [
    {
     "name": "stdout",
     "output_type": "stream",
     "text": [
      "No Hotel found nearby gamba\n",
      "No Hotel found nearby saquena\n",
      "No Hotel found nearby amapa\n",
      "No Hotel found nearby sebastian\n",
      "No Hotel found nearby nokaneng\n",
      "No Hotel found nearby bulungu\n",
      "No Hotel found nearby nioro\n",
      "No Hotel found nearby birao\n",
      "No Hotel found nearby sabla\n",
      "No Hotel found nearby micheweni\n",
      "No Hotel found nearby aripuana\n",
      "No Hotel found nearby adrar\n",
      "(74, 5)\n"
     ]
    },
    {
     "data": {
      "text/html": [
       "<div>\n",
       "<style scoped>\n",
       "    .dataframe tbody tr th:only-of-type {\n",
       "        vertical-align: middle;\n",
       "    }\n",
       "\n",
       "    .dataframe tbody tr th {\n",
       "        vertical-align: top;\n",
       "    }\n",
       "\n",
       "    .dataframe thead th {\n",
       "        text-align: right;\n",
       "    }\n",
       "</style>\n",
       "<table border=\"1\" class=\"dataframe\">\n",
       "  <thead>\n",
       "    <tr style=\"text-align: right;\">\n",
       "      <th></th>\n",
       "      <th>Hotel Name</th>\n",
       "      <th>Lat</th>\n",
       "      <th>Lng</th>\n",
       "      <th>City</th>\n",
       "      <th>Country</th>\n",
       "    </tr>\n",
       "  </thead>\n",
       "  <tbody>\n",
       "    <tr>\n",
       "      <th>0</th>\n",
       "      <td>Hotel-Restaurant BIBICH</td>\n",
       "      <td>5.765159</td>\n",
       "      <td>20.666352</td>\n",
       "      <td>bambari</td>\n",
       "      <td>CF</td>\n",
       "    </tr>\n",
       "    <tr>\n",
       "      <th>1</th>\n",
       "      <td>Oumou Elghoura</td>\n",
       "      <td>20.522427</td>\n",
       "      <td>-13.050393</td>\n",
       "      <td>atar</td>\n",
       "      <td>MR</td>\n",
       "    </tr>\n",
       "    <tr>\n",
       "      <th>2</th>\n",
       "      <td>Hotel Rei Davi</td>\n",
       "      <td>-2.862120</td>\n",
       "      <td>-67.772472</td>\n",
       "      <td>tonantins</td>\n",
       "      <td>BR</td>\n",
       "    </tr>\n",
       "    <tr>\n",
       "      <th>3</th>\n",
       "      <td>Observatory Guest House</td>\n",
       "      <td>-33.646393</td>\n",
       "      <td>115.348676</td>\n",
       "      <td>busselton</td>\n",
       "      <td>AU</td>\n",
       "    </tr>\n",
       "    <tr>\n",
       "      <th>4</th>\n",
       "      <td>Hotel RIKMAN Continental</td>\n",
       "      <td>25.512665</td>\n",
       "      <td>90.217633</td>\n",
       "      <td>tura</td>\n",
       "      <td>IN</td>\n",
       "    </tr>\n",
       "  </tbody>\n",
       "</table>\n",
       "</div>"
      ],
      "text/plain": [
       "                 Hotel Name        Lat         Lng       City Country\n",
       "0   Hotel-Restaurant BIBICH   5.765159   20.666352    bambari      CF\n",
       "1            Oumou Elghoura  20.522427  -13.050393       atar      MR\n",
       "2            Hotel Rei Davi  -2.862120  -67.772472  tonantins      BR\n",
       "3   Observatory Guest House -33.646393  115.348676  busselton      AU\n",
       "4  Hotel RIKMAN Continental  25.512665   90.217633       tura      IN"
      ]
     },
     "execution_count": 11,
     "metadata": {},
     "output_type": "execute_result"
    }
   ],
   "source": [
    "# Hotel Dataframe made to find all hotels with/ in5000 meters\n",
    "hotel_df = pd.DataFrame(columns=['Hotel Name','Lat','Lng','City','Country'])\n",
    "search_distance = 5000 #5000 meters\n",
    "url = 'https://maps.googleapis.com/maps/api/place/nearbysearch/json?'\n",
    "\n",
    "# For Loop made \n",
    "for idx in range(len(df_city_narrowed)):\n",
    "    # print(idx)\n",
    "    query_url = f\"{url}key={g_key}&type=lodging&location={df_city_narrowed['Lat'].iloc[idx]},{df_city_narrowed['Lng'].iloc[idx]}&radius={search_distance}\"\n",
    "    # print(query_url)\n",
    "    place_response = requests.get(query_url)\n",
    "    place_json = place_response.json()\n",
    "    try:\n",
    "        first_hotel_lat = place_json['results'][0]['geometry']['location']['lat']\n",
    "        first_hotel_lng = place_json['results'][0]['geometry']['location']['lng']\n",
    "        first_hotel_name = place_json['results'][0]['name']\n",
    "        hotel_df.loc[len(hotel_df.index)] = {'Hotel Name':first_hotel_name,\n",
    "                                             'Lat':first_hotel_lat,\n",
    "                                             'Lng':first_hotel_lng, \n",
    "                                             'City':df_city_narrowed['City'].iloc[idx],\n",
    "                                             'Country':df_city_narrowed['Country'].iloc[idx]}\n",
    "    except:\n",
    "        print(f\"No Hotel found nearby {df_city_narrowed['City'].iloc[idx]}\")\n",
    "\n",
    "print(hotel_df.shape)\n",
    "hotel_df.head()\n",
    "# Observation: list made to show hotels that were not nearby and a list of hotels that were found and the city in a dataframe. "
   ]
  },
  {
   "cell_type": "code",
   "execution_count": 13,
   "metadata": {},
   "outputs": [],
   "source": [
    "# NOTE: Do not change any of the code in this cell\n",
    "\n",
    "# Using the template add the hotel marks to the heatmap\n",
    "info_box_template = \"\"\"\n",
    "<dl>\n",
    "<dt>Name</dt><dd>{Hotel Name}</dd>\n",
    "<dt>City</dt><dd>{City}</dd>\n",
    "<dt>Country</dt><dd>{Country}</dd>\n",
    "</dl>\n",
    "\"\"\"\n",
    "# Store the DataFrame Row\n",
    "# NOTE: be sure to update with your DataFrame name\n",
    "hotel_info = [info_box_template.format(**row) for index, row in hotel_df.iterrows()]\n",
    "locations = hotel_df[[\"Lat\", \"Lng\"]]"
   ]
  },
  {
   "cell_type": "code",
   "execution_count": 15,
   "metadata": {},
   "outputs": [
    {
     "data": {
      "application/vnd.jupyter.widget-view+json": {
       "model_id": "8386e0c3e9bd43f99072a1f807460d8c",
       "version_major": 2,
       "version_minor": 0
      },
      "text/plain": [
       "Figure(layout=FigureLayout(border='1px solid black', height='480px', margin='0 auto 0 auto', padding='1px', wi…"
      ]
     },
     "metadata": {},
     "output_type": "display_data"
    }
   ],
   "source": [
    "# Add marker layer ontop of heat map\n",
    "markers = gmaps.marker_layer(locations,info_box_content=hotel_info)\n",
    "map_figure.add_layer(markers)\n",
    "\n",
    "# Display figure\n",
    "map_figure \n",
    "\n",
    "#Observation: shows hotels throughout the country in area where the humidity is high. "
   ]
  },
  {
   "cell_type": "code",
   "execution_count": null,
   "metadata": {},
   "outputs": [],
   "source": []
  }
 ],
 "metadata": {
  "kernelspec": {
   "display_name": "Python 3",
   "language": "python",
   "name": "python3"
  },
  "language_info": {
   "codemirror_mode": {
    "name": "ipython",
    "version": 3
   },
   "file_extension": ".py",
   "mimetype": "text/x-python",
   "name": "python",
   "nbconvert_exporter": "python",
   "pygments_lexer": "ipython3",
   "version": "3.8.8"
  },
  "latex_envs": {
   "LaTeX_envs_menu_present": true,
   "autoclose": false,
   "autocomplete": true,
   "bibliofile": "biblio.bib",
   "cite_by": "apalike",
   "current_citInitial": 1,
   "eqLabelWithNumbers": true,
   "eqNumInitial": 1,
   "hotkeys": {
    "equation": "Ctrl-E",
    "itemize": "Ctrl-I"
   },
   "labels_anchors": false,
   "latex_user_defs": false,
   "report_style_numbering": false,
   "user_envs_cfg": false
  }
 },
 "nbformat": 4,
 "nbformat_minor": 4
}
